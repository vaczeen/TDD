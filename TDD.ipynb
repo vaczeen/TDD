{
  "metadata": {
    "kernelspec": {
      "name": "python",
      "display_name": "Python (Pyodide)",
      "language": "python"
    },
    "language_info": {
      "codemirror_mode": {
        "name": "python",
        "version": 3
      },
      "file_extension": ".py",
      "mimetype": "text/x-python",
      "name": "python",
      "nbconvert_exporter": "python",
      "pygments_lexer": "ipython3",
      "version": "3.8"
    }
  },
  "nbformat_minor": 4,
  "nbformat": 4,
  "cells": [
    {
      "cell_type": "code",
      "source": "def FooBarQix(n):\n    num = \"\"\n\n    if(n%3 == 0):\n        num += \"Foo\"\n    if(n%5 == 0):\n        num += \"Bar\"\n    if(n%7 == 0):\n        num += \"Qix\"\n    for digit in str(n):\n        # Rule 4: If the digit is 3, append \"Foo\" to the num\n        if digit == '3':\n            num += \"Foo\"\n        # Rule 5: If the digit is 5, append \"Bar\" to the num\n        elif digit == '5':\n            num += \"Bar\"\n        # Rule 6: If the digit is 7, append \"Qix\" to the num\n        elif digit == '7':\n            num += \"Qix\"\n        elif digit == '0':\n            num += \"*\"\n            \n    return num\n    \n#example usage\np = 3\nresult = FooBarQix(p)\nprint(result)",
      "metadata": {
        "trusted": true
      },
      "outputs": [
        {
          "name": "stdout",
          "text": "BarFoo\n",
          "output_type": "stream"
        }
      ],
      "execution_count": 21
    },
    {
      "cell_type": "code",
      "source": "",
      "metadata": {
        "trusted": true
      },
      "outputs": [],
      "execution_count": null
    }
  ]
}